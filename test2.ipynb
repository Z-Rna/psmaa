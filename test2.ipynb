{
 "cells": [
  {
   "cell_type": "markdown",
   "source": [],
   "metadata": {
    "collapsed": false
   }
  },
  {
   "cell_type": "code",
   "source": [
    "import numpy as np\n",
    "from smaa.ImpactMatrix import ImpactMatrix\n",
    "from smaa.Alternative import Alternative\n",
    "from smaa.Criterion import Criterion\n",
    "\n",
    "im = ImpactMatrix(np.array([Alternative(\"alt1\")]), np.array([Criterion(\"cri1\")]), np.array([[1]],dtype=float))"
   ],
   "metadata": {
    "collapsed": false,
    "pycharm": {
     "name": "#%%\n"
    }
   },
   "execution_count": 1,
   "outputs": []
  },
  {
   "cell_type": "code",
   "execution_count": 8,
   "outputs": [],
   "source": [
    "# im.add_alternative([8.3],\"test1\", 1)\n",
    "im.change_alternatives_name(\"test1\",\"new_test1\")"
   ],
   "metadata": {
    "collapsed": false,
    "pycharm": {
     "name": "#%%\n"
    }
   }
  },
  {
   "cell_type": "code",
   "execution_count": 10,
   "outputs": [
    {
     "data": {
      "text/plain": "['alt1', 'new_test1', 'test2']"
     },
     "execution_count": 10,
     "metadata": {},
     "output_type": "execute_result"
    }
   ],
   "source": [
    "im.get_alternatives_names()"
   ],
   "metadata": {
    "collapsed": false,
    "pycharm": {
     "name": "#%%\n"
    }
   }
  },
  {
   "cell_type": "code",
   "execution_count": 15,
   "outputs": [
    {
     "ename": "ValueError",
     "evalue": "There is already criterion named crit2. Choose other name.",
     "output_type": "error",
     "traceback": [
      "\u001B[1;31m---------------------------------------------------------------------------\u001B[0m",
      "\u001B[1;31mValueError\u001B[0m                                Traceback (most recent call last)",
      "Cell \u001B[1;32mIn[15], line 1\u001B[0m\n\u001B[1;32m----> 1\u001B[0m \u001B[43mim\u001B[49m\u001B[38;5;241;43m.\u001B[39;49m\u001B[43madd_criterion\u001B[49m\u001B[43m(\u001B[49m\u001B[43m[\u001B[49m\u001B[38;5;241;43m3.0\u001B[39;49m\u001B[43m,\u001B[49m\u001B[38;5;241;43m4.5\u001B[39;49m\u001B[43m]\u001B[49m\u001B[43m,\u001B[49m\u001B[38;5;124;43m\"\u001B[39;49m\u001B[38;5;124;43mcrit2\u001B[39;49m\u001B[38;5;124;43m\"\u001B[39;49m\u001B[43m,\u001B[49m\u001B[38;5;241;43m1\u001B[39;49m\u001B[43m)\u001B[49m\n",
      "File \u001B[1;32m~\\Desktop\\psmaa\\smaa\\ImpactMatrix.py:35\u001B[0m, in \u001B[0;36mImpactMatrix.add_criterion\u001B[1;34m(self, values, name, criterion_type, pos, ascending)\u001B[0m\n\u001B[0;32m     32\u001B[0m cri_names \u001B[38;5;241m=\u001B[39m \u001B[38;5;28mself\u001B[39m\u001B[38;5;241m.\u001B[39mget_criterions_names()\n\u001B[0;32m     34\u001B[0m \u001B[38;5;28;01mif\u001B[39;00m name \u001B[38;5;129;01min\u001B[39;00m cri_names:\n\u001B[1;32m---> 35\u001B[0m     \u001B[38;5;28;01mraise\u001B[39;00m \u001B[38;5;167;01mValueError\u001B[39;00m(\u001B[38;5;124mf\u001B[39m\u001B[38;5;124m\"\u001B[39m\u001B[38;5;124mThere is already criterion named \u001B[39m\u001B[38;5;132;01m{\u001B[39;00mname\u001B[38;5;132;01m}\u001B[39;00m\u001B[38;5;124m. Choose other name.\u001B[39m\u001B[38;5;124m\"\u001B[39m)\n\u001B[0;32m     37\u001B[0m criterion \u001B[38;5;241m=\u001B[39m Criterion(name, ascending, criterion_type)\n\u001B[0;32m     38\u001B[0m \u001B[38;5;28mself\u001B[39m\u001B[38;5;241m.\u001B[39mcriterions \u001B[38;5;241m=\u001B[39m np\u001B[38;5;241m.\u001B[39minsert(\u001B[38;5;28mself\u001B[39m\u001B[38;5;241m.\u001B[39mcriterions, pos, criterion)\n",
      "\u001B[1;31mValueError\u001B[0m: There is already criterion named crit2. Choose other name."
     ]
    }
   ],
   "source": [
    "im.add_criterion([3.0,4.5],\"crit2\",1)"
   ],
   "metadata": {
    "collapsed": false,
    "pycharm": {
     "name": "#%%\n"
    }
   }
  },
  {
   "cell_type": "code",
   "execution_count": 16,
   "outputs": [
    {
     "data": {
      "text/plain": "array([[3. , 1. ],\n       [4.5, 8. ]])"
     },
     "execution_count": 16,
     "metadata": {},
     "output_type": "execute_result"
    }
   ],
   "source": [
    "im.impact_matrix"
   ],
   "metadata": {
    "collapsed": false,
    "pycharm": {
     "name": "#%%\n"
    }
   }
  },
  {
   "cell_type": "code",
   "execution_count": 2,
   "outputs": [
    {
     "data": {
      "text/plain": "array([[1.]])"
     },
     "execution_count": 2,
     "metadata": {},
     "output_type": "execute_result"
    }
   ],
   "source": [
    "im.impact_matrix"
   ],
   "metadata": {
    "collapsed": false,
    "pycharm": {
     "name": "#%%\n"
    }
   }
  },
  {
   "cell_type": "markdown",
   "source": [],
   "metadata": {
    "collapsed": false
   }
  },
  {
   "cell_type": "code",
   "execution_count": 55,
   "outputs": [],
   "source": [
    "# alts = [Alternative(\"alt1\"), Alternative(\"alt2\"), Alternative(\"alt3\")]\n",
    "# cris = [[Criterion(\"cri1\")]]\n",
    "from smaa import create_impact_matrix_from_csv\n",
    "from smaa import no_preference, ordinal_preference\n",
    "from smaa import SMAA2\n",
    "\n",
    "im = create_impact_matrix_from_csv(\"data_copy.csv\", \"cri_info.csv\")\n",
    "smaa = SMAA2(im,mc_it=10000)\n",
    "# print(smaa.partial_utility_matrix())"
   ],
   "metadata": {
    "collapsed": false,
    "pycharm": {
     "name": "#%%\n"
    }
   }
  },
  {
   "cell_type": "code",
   "execution_count": 65,
   "outputs": [
    {
     "data": {
      "text/plain": "(array([[0.33139546, 0.66860454],\n        [0.83385318, 0.16614682],\n        [0.        , 0.        ]]),\n array([[0.    , 0.3344, 0.6656],\n        [0.3365, 0.3291, 0.3344],\n        [0.6635, 0.3365, 0.    ]]))"
     },
     "execution_count": 65,
     "metadata": {},
     "output_type": "execute_result"
    }
   ],
   "source": [
    "# smaa.alg_3(no_preference)\n",
    "# ordinal_preference(2, [0,1])\n",
    "smaa.compute_central_weight_vectors_and_acceptability_indices(no_preference)"
   ],
   "metadata": {
    "collapsed": false,
    "pycharm": {
     "name": "#%%\n"
    }
   }
  },
  {
   "cell_type": "code",
   "execution_count": null,
   "outputs": [],
   "source": [],
   "metadata": {
    "collapsed": false,
    "pycharm": {
     "name": "#%%\n"
    }
   }
  },
  {
   "cell_type": "code",
   "execution_count": 67,
   "outputs": [
    {
     "data": {
      "text/plain": "     C1   C23\nA            \nA1  0.5  15.0\nA2  0.3  16.0\nA3  0.4  14.0",
      "text/html": "<div>\n<style scoped>\n    .dataframe tbody tr th:only-of-type {\n        vertical-align: middle;\n    }\n\n    .dataframe tbody tr th {\n        vertical-align: top;\n    }\n\n    .dataframe thead th {\n        text-align: right;\n    }\n</style>\n<table border=\"1\" class=\"dataframe\">\n  <thead>\n    <tr style=\"text-align: right;\">\n      <th></th>\n      <th>C1</th>\n      <th>C23</th>\n    </tr>\n    <tr>\n      <th>A</th>\n      <th></th>\n      <th></th>\n    </tr>\n  </thead>\n  <tbody>\n    <tr>\n      <th>A1</th>\n      <td>0.5</td>\n      <td>15.0</td>\n    </tr>\n    <tr>\n      <th>A2</th>\n      <td>0.3</td>\n      <td>16.0</td>\n    </tr>\n    <tr>\n      <th>A3</th>\n      <td>0.4</td>\n      <td>14.0</td>\n    </tr>\n  </tbody>\n</table>\n</div>"
     },
     "execution_count": 67,
     "metadata": {},
     "output_type": "execute_result"
    }
   ],
   "source": [
    "from io import StringIO\n",
    "import pandas as pd\n",
    "\n",
    "a = StringIO(\n",
    "            \"A,C1,C2\\n\"\n",
    "            \"A1,0.5,15.0\\n\"\n",
    "            \"A2,0.3,16.0\\n\"\n",
    "            \"A3,0.4,14.0\\n\"\n",
    "        )\n",
    "\n",
    "data_read = pd.read_csv(a, index_col='A')\n",
    "data_read"
   ],
   "metadata": {
    "collapsed": false,
    "pycharm": {
     "name": "#%%\n"
    }
   }
  }
 ],
 "metadata": {
  "kernelspec": {
   "display_name": "Python 3",
   "language": "python",
   "name": "python3"
  },
  "language_info": {
   "codemirror_mode": {
    "name": "ipython",
    "version": 2
   },
   "file_extension": ".py",
   "mimetype": "text/x-python",
   "name": "python",
   "nbconvert_exporter": "python",
   "pygments_lexer": "ipython2",
   "version": "2.7.6"
  }
 },
 "nbformat": 4,
 "nbformat_minor": 0
}