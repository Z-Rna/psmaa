{
 "cells": [
  {
   "cell_type": "code",
   "execution_count": 1,
   "metadata": {
    "collapsed": true
   },
   "outputs": [],
   "source": [
    "import numpy as np\n",
    "import pandas as pd\n",
    "from tqdm import tqdm"
   ]
  },
  {
   "cell_type": "markdown",
   "source": [],
   "metadata": {
    "collapsed": false
   }
  },
  {
   "cell_type": "code",
   "execution_count": null,
   "outputs": [],
   "source": [],
   "metadata": {
    "collapsed": false,
    "pycharm": {
     "name": "#%%\n"
    }
   }
  },
  {
   "cell_type": "code",
   "execution_count": 19,
   "outputs": [
    {
     "data": {
      "text/plain": "     C1   C2\nA           \nA1  3.0  9.0\nA2  7.0  7.0\nA3  9.0  2.0",
      "text/html": "<div>\n<style scoped>\n    .dataframe tbody tr th:only-of-type {\n        vertical-align: middle;\n    }\n\n    .dataframe tbody tr th {\n        vertical-align: top;\n    }\n\n    .dataframe thead th {\n        text-align: right;\n    }\n</style>\n<table border=\"1\" class=\"dataframe\">\n  <thead>\n    <tr style=\"text-align: right;\">\n      <th></th>\n      <th>C1</th>\n      <th>C2</th>\n    </tr>\n    <tr>\n      <th>A</th>\n      <th></th>\n      <th></th>\n    </tr>\n  </thead>\n  <tbody>\n    <tr>\n      <th>A1</th>\n      <td>3.0</td>\n      <td>9.0</td>\n    </tr>\n    <tr>\n      <th>A2</th>\n      <td>7.0</td>\n      <td>7.0</td>\n    </tr>\n    <tr>\n      <th>A3</th>\n      <td>9.0</td>\n      <td>2.0</td>\n    </tr>\n  </tbody>\n</table>\n</div>"
     },
     "execution_count": 19,
     "metadata": {},
     "output_type": "execute_result"
    }
   ],
   "source": [
    "filename = \"data.csv\"\n",
    "data = pd.read_csv(filename, index_col = 'A')\n",
    "data"
   ],
   "metadata": {
    "collapsed": false,
    "pycharm": {
     "name": "#%%\n"
    }
   }
  },
  {
   "cell_type": "code",
   "execution_count": 33,
   "outputs": [
    {
     "data": {
      "text/plain": "0.5"
     },
     "execution_count": 33,
     "metadata": {},
     "output_type": "execute_result"
    }
   ],
   "source": [
    "def sample_weights(n: int, sum_to = 1.0) -> list:\n",
    "    q_j = np.random.uniform(0, 1, n-1) * sum_to\n",
    "\n",
    "    q_j = np.sort(q_j)\n",
    "    q_j = np.insert(q_j, 0, 0)\n",
    "    q_j = np.insert(q_j, n, sum_to)\n",
    "\n",
    "    w = [q_j[i]-q_j[i-1] for i in range(1, n+1)]\n",
    "    return w\n",
    "\n",
    "np.sum(sample_weights(10, 0.5))"
   ],
   "metadata": {
    "collapsed": false,
    "pycharm": {
     "name": "#%%\n"
    }
   }
  },
  {
   "cell_type": "code",
   "execution_count": 6,
   "outputs": [
    {
     "name": "stdout",
     "output_type": "stream",
     "text": [
      "[0.18181818 0.45454545 0.09090909 0.27272727]\n"
     ]
    }
   ],
   "source": [
    "# def generate_random_weight_vector(data):\n",
    "#     num_elements = len(data)\n",
    "#     weights = np.random.choice(data, num_elements, replace=False)\n",
    "#     weights = weights / np.sum(weights)\n",
    "#     return weights\n",
    "#\n",
    "# data = [0.2, 0.3, 0.5, 0.1]\n",
    "# weight_vector = generate_random_weight_vector(data)\n",
    "# print(weight_vector)"
   ],
   "metadata": {
    "collapsed": false,
    "pycharm": {
     "name": "#%%\n"
    }
   }
  },
  {
   "cell_type": "code",
   "execution_count": 4,
   "outputs": [],
   "source": [
    "def compute_partial_utility(vector):\n",
    "    min_value = np.min(vector)\n",
    "    max_value = np.max(vector) - min_value\n",
    "    return (vector - min_value) / max_value"
   ],
   "metadata": {
    "collapsed": false,
    "pycharm": {
     "name": "#%%\n"
    }
   }
  },
  {
   "cell_type": "code",
   "execution_count": 27,
   "outputs": [
    {
     "data": {
      "text/plain": "     C1   C2\nA           \nA1  3.0  9.0\nA2  7.0  7.0\nA3  9.0  2.0",
      "text/html": "<div>\n<style scoped>\n    .dataframe tbody tr th:only-of-type {\n        vertical-align: middle;\n    }\n\n    .dataframe tbody tr th {\n        vertical-align: top;\n    }\n\n    .dataframe thead th {\n        text-align: right;\n    }\n</style>\n<table border=\"1\" class=\"dataframe\">\n  <thead>\n    <tr style=\"text-align: right;\">\n      <th></th>\n      <th>C1</th>\n      <th>C2</th>\n    </tr>\n    <tr>\n      <th>A</th>\n      <th></th>\n      <th></th>\n    </tr>\n  </thead>\n  <tbody>\n    <tr>\n      <th>A1</th>\n      <td>3.0</td>\n      <td>9.0</td>\n    </tr>\n    <tr>\n      <th>A2</th>\n      <td>7.0</td>\n      <td>7.0</td>\n    </tr>\n    <tr>\n      <th>A3</th>\n      <td>9.0</td>\n      <td>2.0</td>\n    </tr>\n  </tbody>\n</table>\n</div>"
     },
     "execution_count": 27,
     "metadata": {},
     "output_type": "execute_result"
    }
   ],
   "source": [
    "def partial_utility_matrix(matrix):\n",
    "    m, n = matrix.shape\n",
    "    X = matrix.copy().to_numpy()\n",
    "    for col in range(n):\n",
    "        criterium = X[:, col]\n",
    "        utility_vector = compute_partial_utility(criterium)\n",
    "        X[:, col] = utility_vector\n",
    "    return X\n",
    "    # for col in matrix:\n",
    "    #     criterium = matrix[col]\n",
    "    #     utility_vector = compute_partial_utility(criterium.tolist())\n",
    "    #     utility_vector = dict(zip(criterium.index, utility_vector))\n",
    "    #     X[col] = pd.Series(utility_vector)\n",
    "    # return X\n",
    "\n",
    "partial_utility_matrix(data)\n",
    "data"
   ],
   "metadata": {
    "collapsed": false,
    "pycharm": {
     "name": "#%%\n"
    }
   }
  },
  {
   "cell_type": "code",
   "execution_count": 6,
   "outputs": [],
   "source": [
    "def utility(x_i, w):\n",
    "    return np.sum(x_i.dot(w))"
   ],
   "metadata": {
    "collapsed": false,
    "pycharm": {
     "name": "#%%\n"
    }
   }
  },
  {
   "cell_type": "code",
   "execution_count": 34,
   "outputs": [
    {
     "name": "stderr",
     "output_type": "stream",
     "text": [
      "100%|██████████| 10000/10000 [00:00<00:00, 10102.95it/s]"
     ]
    },
    {
     "name": "stdout",
     "output_type": "stream",
     "text": [
      "Time: 0.9945671558380127\n",
      "[[0.4971 0.2021 0.3008]\n",
      " [0.     0.6163 0.3837]\n",
      " [0.5029 0.1816 0.3155]]\n",
      "[[0.25361817 0.74638183]\n",
      " [0.59072634 0.40927366]\n",
      " [0.84161841 0.15838159]]\n",
      "[1. 1. 1.]\n"
     ]
    },
    {
     "name": "stderr",
     "output_type": "stream",
     "text": [
      "\n"
     ]
    }
   ],
   "source": [
    "import time\n",
    "from numba import njit\n",
    "\n",
    "def monte_carlo_simulation(it, m, n, X_utility):\n",
    "     w_c = np.zeros([m,n])\n",
    "     h = np.zeros([m,m])\n",
    "     for i in tqdm(range(it)):\n",
    "        w = sample_weights(n)\n",
    "        t = np.array([utility(X_utility[j,:], w) for j in range(m)])\n",
    "        rank =  np.argsort(t)\n",
    "        for j in range(m):\n",
    "            r = rank[j]\n",
    "            h[r,j] += 1\n",
    "            if r == (m-1):\n",
    "                w_c[j] += w\n",
    "     return h, w_c\n",
    "\n",
    "\n",
    "def alg_3(X, it: int = 10):\n",
    "    m, n = X.shape\n",
    "    X_utility = partial_utility_matrix(X)\n",
    "\n",
    "    h, w_c = monte_carlo_simulation(it, m, n, X_utility)\n",
    "    b = np.zeros([m,m])\n",
    "    for i in range(m):\n",
    "        if h[m-1][i] > 0:\n",
    "            w_c[i] = w_c[i] / h[m-1,i]\n",
    "        for j in range(m):\n",
    "            b[j,i] = h[j,i] / it\n",
    "\n",
    "    return w_c, b\n",
    "\n",
    "def alg_4(X, b, it):\n",
    "    m, n = X.shape\n",
    "    X_utility = partial_utility_matrix(X)\n",
    "    p = np.zeros(m)\n",
    "\n",
    "    for i in range(it):\n",
    "        pass\n",
    "    return NotImplemented\n",
    "\n",
    "K_w = 10000\n",
    "K_c = 10\n",
    "t = time.time()\n",
    "w_c, b = alg_3(data, it=K_w)\n",
    "print(f\"Time: {(time.time()-t)}\")\n",
    "df_text = pd.DataFrame(b)\n",
    "print(b)\n",
    "print(w_c)\n",
    "print(np.sum(w_c, axis=1))"
   ],
   "metadata": {
    "collapsed": false,
    "pycharm": {
     "name": "#%%\n"
    }
   }
  }
 ],
 "metadata": {
  "kernelspec": {
   "display_name": "Python 3",
   "language": "python",
   "name": "python3"
  },
  "language_info": {
   "codemirror_mode": {
    "name": "ipython",
    "version": 2
   },
   "file_extension": ".py",
   "mimetype": "text/x-python",
   "name": "python",
   "nbconvert_exporter": "python",
   "pygments_lexer": "ipython2",
   "version": "2.7.6"
  }
 },
 "nbformat": 4,
 "nbformat_minor": 0
}