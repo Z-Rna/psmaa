{
 "cells": [
  {
   "cell_type": "code",
   "execution_count": 1,
   "metadata": {
    "collapsed": true
   },
   "outputs": [],
   "source": [
    "import numpy as np\n",
    "import pandas as pd"
   ]
  },
  {
   "cell_type": "code",
   "execution_count": 123,
   "outputs": [],
   "source": [
    "filename = \"data_electre/matrix.csv\"\n",
    "data = pd.read_csv(filename, index_col = 'A')\n",
    "p = pd.read_csv(\"data_electre/p_values.csv\").values[0]\n",
    "q = pd.read_csv(\"data_electre/q_values.csv\").values[0]\n",
    "v = pd.read_csv(\"data_electre/v_values.csv\").values[0]\n",
    "b_h = pd.read_csv(\"data_electre/b_values.csv\", index_col = 'C').to_numpy()\n",
    "data = data.to_numpy()"
   ],
   "metadata": {
    "collapsed": false,
    "pycharm": {
     "name": "#%%\n"
    }
   }
  },
  {
   "cell_type": "code",
   "execution_count": 6,
   "outputs": [
    {
     "data": {
      "text/plain": "2"
     },
     "execution_count": 6,
     "metadata": {},
     "output_type": "execute_result"
    }
   ],
   "source": [
    "m, n = data.shape\n",
    "b_n = b_h.shape[0]\n",
    "b_n"
   ],
   "metadata": {
    "collapsed": false,
    "pycharm": {
     "name": "#%%\n"
    }
   }
  },
  {
   "cell_type": "code",
   "source": [
    "b_h"
   ],
   "metadata": {
    "collapsed": false,
    "pycharm": {
     "name": "#%%\n"
    }
   },
   "execution_count": 4,
   "outputs": [
    {
     "name": "stdout",
     "output_type": "stream",
     "text": [
      "[[100.   9.]\n",
      " [120.   7.]\n",
      " [150.   2.]\n",
      " [110.   5.]]\n"
     ]
    }
   ]
  },
  {
   "cell_type": "code",
   "execution_count": 132,
   "outputs": [
    {
     "data": {
      "text/plain": "(array([[[0.  , 0.  ],\n         [0.  , 0.  ],\n         [0.  , 0.  ],\n         [0.  , 0.  ]],\n \n        [[0.  , 0.  ],\n         [0.  , 0.  ],\n         [0.75, 0.75],\n         [0.  , 0.  ]]]),\n array([[[1., 1.],\n         [1., 1.],\n         [1., 1.],\n         [1., 1.]],\n \n        [[1., 1.],\n         [1., 1.],\n         [1., 1.],\n         [1., 1.]]]))"
     },
     "execution_count": 132,
     "metadata": {},
     "output_type": "execute_result"
    }
   ],
   "source": [
    "cj_ab = np.zeros([n,m,b_n])\n",
    "cj_ba = np.zeros([n,m,b_n])\n",
    "\n",
    "def concordance_index(a, b, q_j, p_j):\n",
    "    diff = b-a\n",
    "    if diff <= q_j:\n",
    "        return 1\n",
    "    elif diff >= p_j:\n",
    "        return 0\n",
    "    else:\n",
    "        return (p_j - diff) / (p_j - q_j)\n",
    "\n",
    "for j in range(n):\n",
    "    q_j, p_j = q[j], p[j]\n",
    "    for i_a in range(m):\n",
    "        a = data[i_a,j]\n",
    "        for i_b in range(b_n):\n",
    "            b = b_h[j,i_b]\n",
    "            cj_ab[j,i_a,i_b] = concordance_index(a,b,q_j,p_j)\n",
    "            cj_ba[j,i_a,i_b] = concordance_index(b,a,q_j,p_j)\n",
    "\n",
    "cj_ba, cj_ab"
   ],
   "metadata": {
    "collapsed": false,
    "pycharm": {
     "name": "#%%\n"
    }
   }
  },
  {
   "cell_type": "code",
   "execution_count": 125,
   "outputs": [
    {
     "data": {
      "text/plain": "(array([[[0., 0.],\n         [0., 0.],\n         [0., 0.],\n         [0., 0.]],\n \n        [[0., 0.],\n         [0., 0.],\n         [0., 0.],\n         [0., 0.]]]),\n array([[[1., 1.],\n         [1., 1.],\n         [1., 1.],\n         [1., 1.]],\n \n        [[1., 1.],\n         [1., 1.],\n         [0., 0.],\n         [0., 0.]]]))"
     },
     "execution_count": 125,
     "metadata": {},
     "output_type": "execute_result"
    }
   ],
   "source": [
    "dj_ab = np.zeros([n,m,b_n])\n",
    "dj_ba = np.zeros([n,m,b_n])\n",
    "\n",
    "def discordance_index(a, b, p_j, v_j):\n",
    "    diff = b-a\n",
    "    if diff <= p_j:\n",
    "        return 0\n",
    "    elif diff >= v_j:\n",
    "        return 1\n",
    "    else:\n",
    "        return ((diff-p_j)/(v_j-p_j))\n",
    "\n",
    "for j in range(n):\n",
    "    p_j, v_j = p[j], v[j]\n",
    "    for i_a in range(m):\n",
    "        a = data[i_a,j]\n",
    "        for i_b in range(b_n):\n",
    "            b = b_h[j,i_b]\n",
    "            dj_ab[j,i_a,i_b] = discordance_index(a,b,p_j,v_j)\n",
    "            dj_ba[j,i_a,i_b] = discordance_index(b,a,p_j,v_j)\n",
    "\n",
    "dj_ab, dj_ba"
   ],
   "metadata": {
    "collapsed": false,
    "pycharm": {
     "name": "#%%\n"
    }
   }
  },
  {
   "cell_type": "code",
   "execution_count": 126,
   "outputs": [
    {
     "data": {
      "text/plain": "array([0.27345653, 0.72654347])"
     },
     "execution_count": 126,
     "metadata": {},
     "output_type": "execute_result"
    }
   ],
   "source": [
    "from smaa.sample import sample_weights\n",
    "\n",
    "weights = np.array(sample_weights(n))\n",
    "weights"
   ],
   "metadata": {
    "collapsed": false,
    "pycharm": {
     "name": "#%%\n"
    }
   }
  },
  {
   "cell_type": "markdown",
   "source": [],
   "metadata": {
    "collapsed": false,
    "pycharm": {
     "name": "#%% md\n"
    }
   }
  },
  {
   "cell_type": "code",
   "execution_count": 133,
   "outputs": [
    {
     "data": {
      "text/plain": "array([[1., 1.],\n       [1., 1.],\n       [1., 1.],\n       [1., 1.]])"
     },
     "execution_count": 133,
     "metadata": {},
     "output_type": "execute_result"
    }
   ],
   "source": [
    "C_ab = np.sum(cj_ab * weights[:,None,None], axis=0) / np.sum(weights)\n",
    "C_ba = np.sum(cj_ba * weights[:,None,None], axis=0) / np.sum(weights)\n",
    "\n",
    "# print(C_ab)\n",
    "# a = np.array([[[1,2],[3,4]],[[5,6],[7,8]]])\n",
    "# np.all((dj_ab[:,0,0] == 0))\n",
    "\n",
    "C_ab"
   ],
   "metadata": {
    "collapsed": false,
    "pycharm": {
     "name": "#%%\n"
    }
   }
  },
  {
   "cell_type": "markdown",
   "source": [],
   "metadata": {
    "collapsed": false,
    "pycharm": {
     "name": "#%% md\n"
    }
   }
  },
  {
   "cell_type": "code",
   "execution_count": 140,
   "outputs": [
    {
     "data": {
      "text/plain": "array([2., 2., 2., 2.])"
     },
     "execution_count": 140,
     "metadata": {},
     "output_type": "execute_result"
    }
   ],
   "source": [
    "def credibility_index(dj, C):\n",
    "    if np.all((dj == 0.)):\n",
    "        return C\n",
    "    if np.any((dj == 1.)):\n",
    "        return 0.\n",
    "    diff = 1. - C\n",
    "    result = C\n",
    "    for d in dj:\n",
    "        if dj > C:\n",
    "            result *= (1-d)/diff\n",
    "    return result\n",
    "\n",
    "def outranks(dj, C):\n",
    "    return credibility_index(dj, C) >= l\n",
    "\n",
    "def preferred(dj, C):\n",
    "    return outranks(dj[0], C[0]) and not outranks(dj[1], C[1])\n",
    "\n",
    "\n",
    "def optimistic_procedure():\n",
    "    mapper = np.zeros([m])\n",
    "    for i in range(m):\n",
    "        for j in range(b_n):\n",
    "            if j == b_n-1:\n",
    "                mapper[i] = b_n\n",
    "            C = C_ba[i,j], C_ab[i,j]\n",
    "            dj = dj_ba[:,i,j], dj_ab[:,i,j]\n",
    "            if preferred(dj, C):\n",
    "                mapper[i] = j\n",
    "                break\n",
    "    return mapper\n",
    "\n",
    "\n",
    "def pessimistic_procedure():\n",
    "    mapper = np.zeros([m])\n",
    "    for i in range(m):\n",
    "        for j in range(b_n-1,-1,-1):\n",
    "            C = C_ab[i,j]\n",
    "            dj = dj_ab[:,i,j]\n",
    "            if outranks(dj, C):\n",
    "                mapper[i] = j + 1\n",
    "                break\n",
    "    return mapper\n",
    "\n",
    "l = 0.65\n",
    "\n",
    "pessimistic_procedure()\n"
   ],
   "metadata": {
    "collapsed": false,
    "pycharm": {
     "name": "#%%\n"
    }
   }
  },
  {
   "cell_type": "code",
   "execution_count": 66,
   "outputs": [
    {
     "name": "stdout",
     "output_type": "stream",
     "text": [
      "2\n",
      "1\n",
      "0\n"
     ]
    }
   ],
   "source": [
    "for i in range(m-2,-1,-1):\n",
    "    print(i)"
   ],
   "metadata": {
    "collapsed": false,
    "pycharm": {
     "name": "#%%\n"
    }
   }
  }
 ],
 "metadata": {
  "kernelspec": {
   "display_name": "Python 3",
   "language": "python",
   "name": "python3"
  },
  "language_info": {
   "codemirror_mode": {
    "name": "ipython",
    "version": 2
   },
   "file_extension": ".py",
   "mimetype": "text/x-python",
   "name": "python",
   "nbconvert_exporter": "python",
   "pygments_lexer": "ipython2",
   "version": "2.7.6"
  }
 },
 "nbformat": 4,
 "nbformat_minor": 0
}